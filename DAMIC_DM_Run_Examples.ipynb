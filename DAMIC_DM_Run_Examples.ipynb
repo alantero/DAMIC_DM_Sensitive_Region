{
 "cells": [
  {
   "cell_type": "code",
   "execution_count": 8,
   "id": "organizational-riding",
   "metadata": {},
   "outputs": [],
   "source": [
    "import dm_event\n",
    "import time\n",
    "\n",
    "import numpy as np\n",
    "import matplotlib.pyplot as plt\n",
    "plt.rcParams['figure.figsize'] = [16, 10]\n",
    "plt.rcParams.update({'font.size': 20})"
   ]
  },
  {
   "cell_type": "code",
   "execution_count": 9,
   "id": "modified-security",
   "metadata": {},
   "outputs": [],
   "source": [
    "from lindhard import *"
   ]
  },
  {
   "cell_type": "markdown",
   "id": "paperback-evidence",
   "metadata": {},
   "source": [
    "# Detected signal Model (Signal efficiency and ionization energy)"
   ]
  },
  {
   "cell_type": "markdown",
   "id": "light-hungarian",
   "metadata": {},
   "source": [
    "Let's study DM particles with $\\sigma= 3·10^{-42}$ cm$^{2}$ and $m_{\\chi}=5$ GeV.\n",
    "We are going to suppose we have a Silicon detector of 1kg and we have collected data during 365. We want the energies that this particles are going to let on the detector. In this case we will measure the ionization energy produced by the nuclear recoils of the Silicon with DM."
   ]
  },
  {
   "cell_type": "code",
   "execution_count": 10,
   "id": "finite-pledge",
   "metadata": {},
   "outputs": [],
   "source": [
    "N_p_Si, N_n_Si = 14, 14\n",
    "mass_dm = 5\n",
    "cross_section = 8e-43\n",
    "mass_det, t_exp = 1, 365\n",
    "detection = True\n",
    "\n",
    "dm = dm_event.dm_event(N_p_Si, N_n_Si, mass_dm, cross_section, mass_det, t_exp, detection)"
   ]
  },
  {
   "cell_type": "markdown",
   "id": "dedicated-amount",
   "metadata": {},
   "source": [
    "We are going to suppose the detector has a flat background of 0.1 dru and a threshold efficiency of 4eV in background events."
   ]
  },
  {
   "cell_type": "code",
   "execution_count": 11,
   "id": "continued-birthday",
   "metadata": {},
   "outputs": [
    {
     "name": "stdout",
     "output_type": "stream",
     "text": [
      "--- 1.4067680835723877 seconds ---\n"
     ]
    }
   ],
   "source": [
    "start_time = time.time()\n",
    "bkg_flat_val = 0.1 #dru\n",
    "E_eff_thres = 4e-3\n",
    "dm_events = dm.simul_ev(bkg_flat_val, E_eff_thres)\n",
    "print(\"--- %s seconds ---\" % (time.time() - start_time))"
   ]
  },
  {
   "cell_type": "markdown",
   "id": "terminal-shame",
   "metadata": {},
   "source": [
    "For this DM particles we can see the number of expected signal events and background detected."
   ]
  },
  {
   "cell_type": "code",
   "execution_count": 12,
   "id": "extended-garlic",
   "metadata": {},
   "outputs": [
    {
     "name": "stdout",
     "output_type": "stream",
     "text": [
      "Number of Signal events:  14\n",
      "Number of Background events:  272\n"
     ]
    }
   ],
   "source": [
    "dm.verbose()"
   ]
  },
  {
   "cell_type": "markdown",
   "id": "western-orlando",
   "metadata": {},
   "source": [
    "And the energy spectrum."
   ]
  },
  {
   "cell_type": "code",
   "execution_count": 13,
   "id": "classical-stick",
   "metadata": {},
   "outputs": [
    {
     "data": {
      "text/plain": [
       "<matplotlib.legend.Legend at 0x7fa6aabdabb0>"
      ]
     },
     "execution_count": 13,
     "metadata": {},
     "output_type": "execute_result"
    },
    {
     "data": {
      "image/png": "[encoded data removed]",
      "text/plain": [
       "<Figure size 1152x720 with 1 Axes>"
      ]
     },
     "metadata": {
      "needs_background": "light"
     },
     "output_type": "display_data"
    }
   ],
   "source": [
    "plt.hist(dm.bkg_ev, bins = 30, density=True, label = \"Background\")\n",
    "plt.hist(dm.signal_ev, bins = 30, density=True, alpha = 0.7, label = \"Signal\")\n",
    "#dm.plot_var(\"fb\")\n",
    "#dm.plot_var(\"fs\")\n",
    "#plt.loglog()\n",
    "dm.plot_var(\"fsb\")\n",
    "plt.xticks(fontsize=14)\n",
    "plt.yticks(fontsize=14)\n",
    "plt.legend(loc=\"best\")"
   ]
  },
  {
   "cell_type": "markdown",
   "id": "working-hygiene",
   "metadata": {},
   "source": [
    "Now we want to see how well we can distinguish the signal from the background. To do this we need to perform the likelihood of the model against the background only hypothesis likelihood."
   ]
  },
  {
   "cell_type": "code",
   "execution_count": 14,
   "id": "elder-jacob",
   "metadata": {},
   "outputs": [
    {
     "name": "stdout",
     "output_type": "stream",
     "text": [
      "True\n"
     ]
    },
    {
     "name": "stderr",
     "output_type": "stream",
     "text": [
      "/home/alantero/repositories/DAMIC_DM_Sensitive_Region/likelihood.py:108: RuntimeWarning: divide by zero encountered in log\n",
      "  _lnL = (s+b) - np.sum( np.log(s*fs + b*fb) )\n",
      "  0%|          | 0/5000 [00:00<?, ?it/s]/home/alantero/.local/lib/python3.8/site-packages/emcee/moves/red_blue.py:99: RuntimeWarning: invalid value encountered in double_scalars\n",
      "  lnpdiff = f + nlp - state.log_prob[j]\n",
      "100%|██████████| 5000/5000 [31:18<00:00,  2.66it/s]"
     ]
    },
    {
     "name": "stdout",
     "output_type": "stream",
     "text": [
      "95th percentil:  1.009005858977053e-42\n",
      "Central vlue:  1.0085967724724447e-42\n",
      "5th percentile:  1.0083356009253753e-42\n",
      "95th percentil:  264.4742684748368\n",
      "Central vlue:  264.47410962571064\n",
      "5th percentile:  264.47388769981086\n"
     ]
    },
    {
     "name": "stderr",
     "output_type": "stream",
     "text": [
      "\n",
      "/home/alantero/.local/lib/python3.8/site-packages/emcee/autocorr.py:36: RuntimeWarning: invalid value encountered in true_divide\n",
      "  acf /= acf[0]\n"
     ]
    },
    {
     "data": {
      "text/plain": [
       "array([42.52409786])"
      ]
     },
     "execution_count": 14,
     "metadata": {},
     "output_type": "execute_result"
    }
   ],
   "source": [
    "dm.likelihood(deltaLL = True, sigmaEe_b = 4e-3, errors=True)"
   ]
  },
  {
   "cell_type": "code",
   "execution_count": 15,
   "id": "permanent-plate",
   "metadata": {},
   "outputs": [
    {
     "name": "stdout",
     "output_type": "stream",
     "text": [
      "Likelihood Cross section:  1.0086087490671488e-42\n",
      "Original:  8e-43\n"
     ]
    }
   ],
   "source": [
    "print(\"Likelihood Cross section: \", 10**dm.theta[0])\n",
    "print(\"Original: \", cross_section)"
   ]
  },
  {
   "cell_type": "code",
   "execution_count": 16,
   "id": "processed-biology",
   "metadata": {},
   "outputs": [
    {
     "name": "stdout",
     "output_type": "stream",
     "text": [
      "Number of Signal events:  14\n",
      "Number of Background events:  272\n",
      "Likelihood parameters:  [-41.99627727 264.47409806]\n",
      "Background Only-Likelihood Events :  [285.99896223]\n",
      "dLL:  [11.02105036]\n"
     ]
    }
   ],
   "source": [
    "dm.verbose()"
   ]
  },
  {
   "cell_type": "markdown",
   "id": "brazilian-there",
   "metadata": {},
   "source": [
    "# Theoretical Model (No signal efficiency and nuclear recoils energy)"
   ]
  },
  {
   "cell_type": "code",
   "execution_count": 17,
   "id": "educational-assistant",
   "metadata": {},
   "outputs": [],
   "source": [
    "dm_t = dm_event.dm_event(14, 14, 5, 3e-42, 1, 365, False)"
   ]
  },
  {
   "cell_type": "code",
   "execution_count": 18,
   "id": "outdoor-holocaust",
   "metadata": {},
   "outputs": [
    {
     "name": "stdout",
     "output_type": "stream",
     "text": [
      "--- 0.8133797645568848 seconds ---\n"
     ]
    }
   ],
   "source": [
    "start_time = time.time()\n",
    "dm_events = dm_t.simul_ev(0.1,4e-3)\n",
    "print(\"--- %s seconds ---\" % (time.time() - start_time))"
   ]
  },
  {
   "cell_type": "code",
   "execution_count": 19,
   "id": "attempted-chapel",
   "metadata": {},
   "outputs": [
    {
     "name": "stdout",
     "output_type": "stream",
     "text": [
      "Number of Signal events:  66\n",
      "Number of Background events:  229\n"
     ]
    },
    {
     "data": {
      "image/png": "[encoded data removed]",
      "text/plain": [
       "<Figure size 1152x720 with 1 Axes>"
      ]
     },
     "metadata": {
      "needs_background": "light"
     },
     "output_type": "display_data"
    }
   ],
   "source": [
    "dm_t.verbose()\n",
    "plt.hist(dm_t.bkg_ev, bins = 25, density=True)\n",
    "plt.hist(dm_t.signal_ev, bins = 40, density=True, alpha = 0.7)\n",
    "\n",
    "dm_t.plot_var(\"fsb\")"
   ]
  },
  {
   "cell_type": "code",
   "execution_count": 20,
   "id": "placed-street",
   "metadata": {},
   "outputs": [
    {
     "name": "stdout",
     "output_type": "stream",
     "text": [
      "False\n"
     ]
    },
    {
     "data": {
      "text/plain": [
       "array([38161.39763007])"
      ]
     },
     "execution_count": 20,
     "metadata": {},
     "output_type": "execute_result"
    }
   ],
   "source": [
    "dm_t.likelihood(deltaLL = True, sigmaEe_b = 4e-3)"
   ]
  },
  {
   "cell_type": "code",
   "execution_count": 21,
   "id": "stuck-twist",
   "metadata": {},
   "outputs": [
    {
     "name": "stdout",
     "output_type": "stream",
     "text": [
      "Number of Signal events:  66\n",
      "Number of Background events:  229\n",
      "Likelihood parameters:  [-41.62849484 227.85581079]\n",
      "Background Only-Likelihood Events :  [294.99998471]\n",
      "dLL:  [-190.84942444]\n"
     ]
    }
   ],
   "source": [
    "dm_t.verbose()"
   ]
  },
  {
   "cell_type": "code",
   "execution_count": 22,
   "id": "strange-action",
   "metadata": {},
   "outputs": [
    {
     "name": "stdout",
     "output_type": "stream",
     "text": [
      "Likelihood Cross section:  2.7605698470855207e-42\n",
      "Original:  3e-42\n"
     ]
    }
   ],
   "source": [
    "print(\"Likelihood Cross section: \", 10**-41.55900126)\n",
    "print(\"Original: \", 3e-42)"
   ]
  },
  {
   "cell_type": "markdown",
   "id": "equivalent-province",
   "metadata": {},
   "source": [
    "## Testing different Mass values"
   ]
  },
  {
   "cell_type": "code",
   "execution_count": null,
   "id": "understanding-logging",
   "metadata": {},
   "outputs": [],
   "source": [
    "n_sample = 100\n",
    "dLL2, lnL2, xs2, b2 = [], [], [], []\n",
    "start_time = time.time()\n",
    "for i in range(n_sample):\n",
    "    dm2 = dm_event.dm_event(14, 14, 2, 4e-42, 1, 365, True)\n",
    "    dm_events = dm2.simul_ev(0.1,4e-3)\n",
    "    dm2.likelihood(deltaLL = True, sigmaEe_b = 4e-3)\n",
    "    lnL2.append(dm2.lnL_sb)\n",
    "    dLL2.append(dm2.dLL)\n",
    "    xs2.append(10**dm2.theta[0])\n",
    "    b2.append(dm2.theta[1])\n",
    "print(\"--- %s seconds ---\" % (time.time() - start_time))\n",
    "\n",
    "xs2 = np.array(xs2)\n"
   ]
  },
  {
   "cell_type": "code",
   "execution_count": null,
   "id": "consistent-mapping",
   "metadata": {},
   "outputs": [],
   "source": [
    "dm2.verbose()\n",
    "plt.hist(xs2[xs2<1e-40], bins = 30)\n",
    "xs2_m, xs2_std = np.mean(xs2[xs2<1e-40]), np.std(xs2[xs2<1e-40])\n",
    "print(np.mean(np.array(dLL2)[xs2<1e-40]))\n",
    "print(np.mean(xs2)+3*np.std(xs2))\n",
    "print(np.mean(xs2))\n",
    "print(np.mean(xs2)-3*np.std(xs2))\n",
    "print(np.std(xs2))"
   ]
  },
  {
   "cell_type": "code",
   "execution_count": null,
   "id": "biblical-welding",
   "metadata": {},
   "outputs": [],
   "source": [
    "n_sample = 100\n",
    "dLL3, lnL3, xs3, b3 = [], [], [], []\n",
    "start_time = time.time()\n",
    "for i in range(n_sample):\n",
    "    dm3 = dm_event.dm_event(14, 14, 3, 8e-43, 1, 365, True)\n",
    "    dm_events = dm3.simul_ev(0.1,4e-3)\n",
    "    dm3.likelihood(deltaLL = True, sigmaEe_b = 4e-3)\n",
    "    lnL3.append(dm3.lnL_sb)\n",
    "    dLL3.append(dm3.dLL)\n",
    "    xs3.append(10**dm3.theta[0])\n",
    "    b3.append(dm3.theta[1])\n",
    "print(\"--- %s seconds ---\" % (time.time() - start_time))"
   ]
  },
  {
   "cell_type": "code",
   "execution_count": null,
   "id": "prescription-reducing",
   "metadata": {},
   "outputs": [],
   "source": [
    "dm3.verbose()\n",
    "xs3 = np.array(xs3)\n",
    "plt.hist(xs3[xs3<1e-40], bins = 30)\n",
    "xs3_m, xs3_std = np.mean(xs3[xs3<1e-40]), np.std(xs3[xs3<1e-40])\n",
    "print(np.mean(np.array(dLL3)[xs3<1e-40]))\n",
    "print(np.mean(xs3)+3*np.std(xs3))\n",
    "print(np.mean(xs3))\n",
    "print(np.mean(xs3)-3*np.std(xs3))\n",
    "print(np.std(xs3))"
   ]
  },
  {
   "cell_type": "code",
   "execution_count": null,
   "id": "baking-daniel",
   "metadata": {},
   "outputs": [],
   "source": [
    "n_sample = 100\n",
    "dLL4, lnL4, xs4, b4 = [], [], [], []\n",
    "start_time = time.time()\n",
    "for i in range(n_sample):\n",
    "    dm4 = dm_event.dm_event(14, 14, 4, 7e-43, 1, 365, True)\n",
    "    dm_events = dm4.simul_ev(0.1,4e-3)\n",
    "    dm4.likelihood(deltaLL = True, sigmaEe_b = 4e-3)\n",
    "    lnL4.append(dm4.lnL_sb)\n",
    "    dLL4.append(dm4.dLL)\n",
    "    xs4.append(10**dm4.theta[0])\n",
    "    b4.append(dm4.theta[1])\n",
    "print(\"--- %s seconds ---\" % (time.time() - start_time))\n",
    "xs4 = np.array(xs4)"
   ]
  },
  {
   "cell_type": "code",
   "execution_count": null,
   "id": "inappropriate-japan",
   "metadata": {},
   "outputs": [],
   "source": [
    "dm4.verbose()\n",
    "xs4 = np.array(xs4)\n",
    "plt.hist(xs4, bins = 30)\n",
    "xs4_m, xs4_std = np.mean(xs4[xs4<1e-40]), np.std(xs4[xs4<1e-40])\n",
    "print(np.mean(np.array(dLL4)[xs4<1e-40]))\n",
    "print(np.mean(xs4)+3*np.std(xs4))\n",
    "print(np.mean(xs4))\n",
    "print(np.mean(xs4)-3*np.std(xs4))\n",
    "print(np.std(xs4))"
   ]
  },
  {
   "cell_type": "code",
   "execution_count": null,
   "id": "suburban-occasion",
   "metadata": {},
   "outputs": [],
   "source": []
  },
  {
   "cell_type": "code",
   "execution_count": null,
   "id": "prostate-creativity",
   "metadata": {},
   "outputs": [],
   "source": []
  },
  {
   "cell_type": "code",
   "execution_count": null,
   "id": "foster-chair",
   "metadata": {},
   "outputs": [],
   "source": [
    "dm2 = dm_event.dm_event(14, 14, 2, 2e-42, 1, 365, True)\n",
    "dm2.verbose()\n",
    "dm_events = dm2.simul_ev(0.1,4e-3)\n",
    "dm2.likelihood(deltaLL = True, sigmaEe_b = 4e-3)\n",
    "dm2.verbose()"
   ]
  },
  {
   "cell_type": "code",
   "execution_count": null,
   "id": "assumed-advance",
   "metadata": {},
   "outputs": [],
   "source": [
    "dm3 = dm_event.dm_event(14, 14, 3, 8e-43, 1, 365, True)\n",
    "dm3.verbose()\n",
    "dm_events = dm3.simul_ev(0.1,4e-3)\n",
    "dm3.likelihood(deltaLL = True, sigmaEe_b = 4e-3)\n",
    "dm3.verbose()"
   ]
  },
  {
   "cell_type": "code",
   "execution_count": null,
   "id": "valued-lounge",
   "metadata": {},
   "outputs": [],
   "source": [
    "dm4 = dm_event.dm_event(14, 14, 4, 4e-43, 1, 365, True)\n",
    "dm4.verbose()\n",
    "dm_events = dm4.simul_ev(0.1,4e-3)\n",
    "dm4.likelihood(deltaLL = True, sigmaEe_b = 4e-3)\n",
    "dm4.verbose()"
   ]
  },
  {
   "cell_type": "code",
   "execution_count": null,
   "id": "bacterial-object",
   "metadata": {},
   "outputs": [],
   "source": [
    "import dm_event\n",
    "dm1 = dm_event.dm_event(14, 14, 1, 1e-41, 1, 365, True, Eemin = 1e-4)\n",
    "dm1.verbose()\n",
    "dm_events = dm1.simul_ev(0.1,4e-10)\n",
    "dm1.likelihood(deltaLL = True, sigmaEe_b = 4e-10)\n",
    "dm1.verbose()"
   ]
  },
  {
   "cell_type": "code",
   "execution_count": null,
   "id": "close-setup",
   "metadata": {},
   "outputs": [],
   "source": [
    "plt.hist( dm1.signal_ev, bins = 30)\n",
    "dm1_theo = dm_event.dm_event(14, 14, 1, 1e-41, 1, 365, False, Eemin = 1e-4)\n",
    "#dm1_theo.plot_var(\"fs\", Eemin = 1e-8)\n",
    "dm1.plot_var(\"fs\")\n",
    "from lindhard import lindhard_derivative\n",
    "plt.loglog(dm1.E_space_dist, dm1_theo.dRdE_dist*lindhard_derivative(dm1_theo.E_space_dist))\n",
    "plt.show()"
   ]
  },
  {
   "cell_type": "code",
   "execution_count": null,
   "id": "minute-wednesday",
   "metadata": {},
   "outputs": [],
   "source": [
    "dm1.plot_var(\"inv_cdf\", step = 10)\n",
    "dm2.plot_var(\"inv_cdf\", step = 10)\n",
    "plt.show()"
   ]
  },
  {
   "cell_type": "code",
   "execution_count": null,
   "id": "stuffed-invasion",
   "metadata": {},
   "outputs": [],
   "source": [
    "m = [1,2,3,4,5]\n",
    "xs = [1e-41,2e-42, 8e-43, 4e-43, 8e-43]\n",
    "plt.plot(m,xs,'--', color = \"b\")\n",
    "plt.ylim(1e-45,1e-38)\n",
    "plt.xlabel(r\"Dark Matter Mass [GeV/c$^2$]\")\n",
    "plt.ylabel(r\"Dark Matter-nucleon $\\sigma_{SI}$ [cm$^2$]\")\n",
    "plt.xlim(0.3,10)\n",
    "plt.xticks([0.5,1,5,10])\n",
    "plt.grid(True, 'both')\n",
    "plt.yscale(\"log\")\n",
    "#plt.xscale(\"log\")\n",
    "plt.minorticks_off()\n"
   ]
  },
  {
   "cell_type": "code",
   "execution_count": null,
   "id": "strange-audit",
   "metadata": {},
   "outputs": [],
   "source": [
    "m = [2,3,4,5]\n",
    "dLL =[5.15599181, 7.4441312, 8.38835777, 6.63]\n",
    "plt.plot(m,dLL,'--', color = \"b\")\n",
    "plt.xlabel(r\"Dark Matter Mass [GeV/c^2]\")\n",
    "plt.ylabel(r\"$\\Delta \\mathcal{LL}$\")\n",
    "plt.xlim(0.3,10)\n",
    "plt.xticks([0.5,1,5,10])\n",
    "plt.grid(True, 'both')\n",
    "plt.minorticks_off()"
   ]
  },
  {
   "cell_type": "code",
   "execution_count": null,
   "id": "precise-isolation",
   "metadata": {},
   "outputs": [],
   "source": []
  },
  {
   "cell_type": "code",
   "execution_count": null,
   "id": "automated-treat",
   "metadata": {},
   "outputs": [],
   "source": []
  },
  {
   "cell_type": "code",
   "execution_count": null,
   "id": "alive-shelter",
   "metadata": {},
   "outputs": [],
   "source": []
  }
 ],
 "metadata": {
  "kernelspec": {
   "display_name": "Python 3",
   "language": "python",
   "name": "python3"
  },
  "language_info": {
   "codemirror_mode": {
    "name": "ipython",
    "version": 3
   },
   "file_extension": ".py",
   "mimetype": "text/x-python",
   "name": "python",
   "nbconvert_exporter": "python",
   "pygments_lexer": "ipython3",
   "version": "3.8.10"
  }
 },
 "nbformat": 4,
 "nbformat_minor": 5
}
