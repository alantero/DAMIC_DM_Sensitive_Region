{
 "cells": [
  {
   "cell_type": "code",
   "execution_count": 11,
   "id": "organizational-riding",
   "metadata": {},
   "outputs": [],
   "source": [
    "import dm_event\n",
    "import time\n",
    "\n",
    "import numpy as np\n",
    "import matplotlib.pyplot as plt"
   ]
  },
  {
   "cell_type": "markdown",
   "id": "subtle-alert",
   "metadata": {},
   "source": [
    "# Detected signal Model (Signal efficiency and ionization energy)"
   ]
  },
  {
   "cell_type": "markdown",
   "id": "light-hungarian",
   "metadata": {},
   "source": [
    "Let's study DM particles with $\\sigma= 10^{-41}$ cm$^{2}$ and $m_{\\chi}=5$ GeV.\n",
    "We are going to suppose we have a Silicon detector of 1kg and we have collected data during 365. We want the energies that this particles are going to let on the detector. In this case we will measure the ionization energy produced by the nuclear recoils of the Silicon with DM."
   ]
  },
  {
   "cell_type": "code",
   "execution_count": 2,
   "id": "finite-pledge",
   "metadata": {},
   "outputs": [],
   "source": [
    "dm = dm_event.dm_event(14, 14, 5, 3e-42, 1, 365, True)"
   ]
  },
  {
   "cell_type": "markdown",
   "id": "dedicated-amount",
   "metadata": {},
   "source": [
    "We are going to suppose the detector has a flat background of 0.1 dru and a threshold efficiency of 4eV in background events."
   ]
  },
  {
   "cell_type": "code",
   "execution_count": 3,
   "id": "continued-birthday",
   "metadata": {},
   "outputs": [
    {
     "name": "stdout",
     "output_type": "stream",
     "text": [
      "--- 73.09696865081787 seconds ---\n"
     ]
    }
   ],
   "source": [
    "start_time = time.time()\n",
    "dm_events = dm.simul_ev(0.1,4e-3)\n",
    "print(\"--- %s seconds ---\" % (time.time() - start_time))"
   ]
  },
  {
   "cell_type": "markdown",
   "id": "terminal-shame",
   "metadata": {},
   "source": [
    "For this DM particles we can see the number of expected signal events and background detected."
   ]
  },
  {
   "cell_type": "code",
   "execution_count": 4,
   "id": "extended-garlic",
   "metadata": {},
   "outputs": [
    {
     "name": "stdout",
     "output_type": "stream",
     "text": [
      "Number of Signal events:  65\n",
      "Number of Background events:  266\n"
     ]
    }
   ],
   "source": [
    "dm.verbose()"
   ]
  },
  {
   "cell_type": "markdown",
   "id": "western-orlando",
   "metadata": {},
   "source": [
    "And the energy spectrum."
   ]
  },
  {
   "cell_type": "code",
   "execution_count": 9,
   "id": "classical-stick",
   "metadata": {},
   "outputs": [
    {
     "data": {
      "image/png": "[encoded data removed]",
      "text/plain": [
       "<Figure size 432x288 with 1 Axes>"
      ]
     },
     "metadata": {
      "needs_background": "light"
     },
     "output_type": "display_data"
    }
   ],
   "source": [
    "plt.hist(dm.bkg_ev, bins = 30, density=True)\n",
    "plt.hist(dm.signal_ev, bins = 30, density=True, alpha = 0.7)\n",
    "#dm.plot_var(\"fb\")\n",
    "#dm.plot_var(\"fs\")\n",
    "dm.plot_var(\"fsb\")"
   ]
  },
  {
   "cell_type": "markdown",
   "id": "working-hygiene",
   "metadata": {},
   "source": [
    "Now we want to see how well we can distinguish the signal from the background. To do this we need to perform the likelihood of the model against the background only hypothesis likelihood."
   ]
  },
  {
   "cell_type": "code",
   "execution_count": 6,
   "id": "elder-jacob",
   "metadata": {},
   "outputs": [
    {
     "data": {
      "text/plain": [
       "array([4560.22954793])"
      ]
     },
     "execution_count": 6,
     "metadata": {},
     "output_type": "execute_result"
    }
   ],
   "source": [
    "dm.likelihood(deltaLL = True, sigmaEe_b = 4e-3)"
   ]
  },
  {
   "cell_type": "code",
   "execution_count": 13,
   "id": "permanent-plate",
   "metadata": {},
   "outputs": [
    {
     "name": "stdout",
     "output_type": "stream",
     "text": [
      "Likelihood Cross section:  -41.48739772\n",
      "Original:  -41.52287874528034\n"
     ]
    }
   ],
   "source": [
    "print(\"Likelihood Cross section: \", -41.48739772)\n",
    "print(\"Original: \", np.log10(3e-42))"
   ]
  },
  {
   "cell_type": "code",
   "execution_count": 8,
   "id": "processed-biology",
   "metadata": {},
   "outputs": [
    {
     "name": "stdout",
     "output_type": "stream",
     "text": [
      "Number of Signal events:  65\n",
      "Number of Background events:  266\n",
      "Likelihood parameters:  [-41.48739772 261.58652811]\n",
      "Background Only-Likelihood Events :  [330.99615756]\n",
      "dLL:  [72.0294717]\n"
     ]
    }
   ],
   "source": [
    "dm.verbose()"
   ]
  },
  {
   "cell_type": "markdown",
   "id": "labeled-connection",
   "metadata": {},
   "source": [
    "# Theoretical Model (No signal efficiency and nuclear recoils energy)"
   ]
  },
  {
   "cell_type": "code",
   "execution_count": 14,
   "id": "educational-assistant",
   "metadata": {},
   "outputs": [],
   "source": [
    "dm_t = dm_event.dm_event(14, 14, 5, 3e-42, 1, 365, False)"
   ]
  },
  {
   "cell_type": "code",
   "execution_count": 15,
   "id": "outdoor-holocaust",
   "metadata": {},
   "outputs": [
    {
     "name": "stdout",
     "output_type": "stream",
     "text": [
      "--- 2.0122716426849365 seconds ---\n"
     ]
    }
   ],
   "source": [
    "start_time = time.time()\n",
    "dm_events = dm_t.simul_ev(0.1,4e-3)\n",
    "print(\"--- %s seconds ---\" % (time.time() - start_time))"
   ]
  },
  {
   "cell_type": "code",
   "execution_count": 22,
   "id": "attempted-chapel",
   "metadata": {},
   "outputs": [
    {
     "name": "stdout",
     "output_type": "stream",
     "text": [
      "Number of Signal events:  74\n",
      "Number of Background events:  236\n",
      "Likelihood parameters:  [-41.55900126 231.4825177 ]\n",
      "Background Only-Likelihood Events :  [310.00051103]\n",
      "dLL:  [-207.66258062]\n"
     ]
    },
    {
     "data": {
      "image/png": "[encoded data removed]",
      "text/plain": [
       "<Figure size 432x288 with 1 Axes>"
      ]
     },
     "metadata": {
      "needs_background": "light"
     },
     "output_type": "display_data"
    }
   ],
   "source": [
    "dm_t.verbose()\n",
    "plt.hist(dm_t.bkg_ev, bins = 20, density=True)\n",
    "plt.hist(dm_t.signal_ev, bins = 40, density=True, alpha = 0.7)\n",
    "\n",
    "dm_t.plot_var(\"fsb\")"
   ]
  },
  {
   "cell_type": "code",
   "execution_count": 17,
   "id": "placed-street",
   "metadata": {},
   "outputs": [
    {
     "data": {
      "text/plain": [
       "array([45012.96061586])"
      ]
     },
     "execution_count": 17,
     "metadata": {},
     "output_type": "execute_result"
    }
   ],
   "source": [
    "dm_t.likelihood(deltaLL = True, sigmaEe_b = 4e-3)"
   ]
  },
  {
   "cell_type": "code",
   "execution_count": 18,
   "id": "stuck-twist",
   "metadata": {},
   "outputs": [
    {
     "name": "stdout",
     "output_type": "stream",
     "text": [
      "Number of Signal events:  74\n",
      "Number of Background events:  236\n",
      "Likelihood parameters:  [-41.55900126 231.4825177 ]\n",
      "Background Only-Likelihood Events :  [310.00051103]\n",
      "dLL:  [-207.66258062]\n"
     ]
    }
   ],
   "source": [
    "dm_t.verbose()"
   ]
  },
  {
   "cell_type": "code",
   "execution_count": 23,
   "id": "strange-action",
   "metadata": {},
   "outputs": [
    {
     "name": "stdout",
     "output_type": "stream",
     "text": [
      "Likelihood Cross section:  -41.55900126\n",
      "Original:  -41.52287874528034\n"
     ]
    }
   ],
   "source": [
    "print(\"Likelihood Cross section: \", -41.55900126)\n",
    "print(\"Original: \", np.log10(3e-42))"
   ]
  },
  {
   "cell_type": "markdown",
   "id": "indian-corporation",
   "metadata": {},
   "source": [
    "## Testing different Mass values"
   ]
  },
  {
   "cell_type": "code",
   "execution_count": 27,
   "id": "automatic-scholarship",
   "metadata": {
    "scrolled": false
   },
   "outputs": [
    {
     "name": "stdout",
     "output_type": "stream",
     "text": [
      "Number of Signal events:  12\n",
      "b:  [-793.84355061]\n",
      "sb:  -799.1709033747668\n",
      "DeltaLL:  [5.32735276]\n",
      "4.5\n"
     ]
    },
    {
     "data": {
      "text/plain": [
       "array([0.68451259])"
      ]
     },
     "execution_count": 27,
     "metadata": {},
     "output_type": "execute_result"
    }
   ],
   "source": [
    "dm5 = dm_event.dm_event(14, 14, 5, 6e-43, 1, 365, True)\n",
    "dm5.verbose()\n",
    "dm_events = dm5.simul_ev(0.1,4e-3)\n",
    "dm5.likelihood(deltaLL = True, sigmaEe_b = 4e-3)"
   ]
  },
  {
   "cell_type": "code",
   "execution_count": 32,
   "id": "sublime-northeast",
   "metadata": {},
   "outputs": [
    {
     "name": "stdout",
     "output_type": "stream",
     "text": [
      "Number of Signal events:  12\n",
      "Number of Background events:  279\n",
      "Likelihood parameters:  [-42.19626807 277.42855613]\n",
      "Background Only-Likelihood Events :  [291.00059008]\n",
      "dLL:  [5.32735276]\n"
     ]
    }
   ],
   "source": [
    "dm5.verbose()"
   ]
  },
  {
   "cell_type": "code",
   "execution_count": 47,
   "id": "saved-finder",
   "metadata": {},
   "outputs": [
    {
     "name": "stdout",
     "output_type": "stream",
     "text": [
      "Number of Signal events:  16\n",
      "b:  [-786.39446984]\n",
      "sb:  -788.0602585608121\n",
      "DeltaLL:  [1.66578872]\n",
      "4.5\n"
     ]
    },
    {
     "data": {
      "text/plain": [
       "array([8.03275358])"
      ]
     },
     "execution_count": 47,
     "metadata": {},
     "output_type": "execute_result"
    }
   ],
   "source": [
    "dm10 = dm_event.dm_event(14, 14, 10, 6e-43, 1, 365, True)\n",
    "dm10.verbose()\n",
    "dm_events = dm10.simul_ev(0.1,4e-3)\n",
    "dm10.likelihood(deltaLL = True, sigmaEe_b = 4e-3)"
   ]
  },
  {
   "cell_type": "code",
   "execution_count": null,
   "id": "colonial-magic",
   "metadata": {},
   "outputs": [],
   "source": []
  }
 ],
 "metadata": {
  "kernelspec": {
   "display_name": "Python 3",
   "language": "python",
   "name": "python3"
  },
  "language_info": {
   "codemirror_mode": {
    "name": "ipython",
    "version": 3
   },
   "file_extension": ".py",
   "mimetype": "text/x-python",
   "name": "python",
   "nbconvert_exporter": "python",
   "pygments_lexer": "ipython3",
   "version": "3.8.10"
  }
 },
 "nbformat": 4,
 "nbformat_minor": 5
}
